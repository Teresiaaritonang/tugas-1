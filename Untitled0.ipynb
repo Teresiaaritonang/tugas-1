{
  "cells": [
    {
      "cell_type": "code",
      "execution_count": null,
      "metadata": {
        "colab": {
          "base_uri": "https://localhost:8080/"
        },
        "id": "HhmNnjR_Z8vU",
        "outputId": "7e4c8378-6ca7-4f7b-970c-080977b755b0"
      },
      "outputs": [
        {
          "name": "stdout",
          "output_type": "stream",
          "text": [
            "Hello, world\n"
          ]
        }
      ],
      "source": [
        "print ('Hello, world')"
      ]
    },
    {
      "cell_type": "code",
      "execution_count": null,
      "metadata": {
        "id": "0mloXznxayCO"
      },
      "outputs": [],
      "source": [
        "length = 10\n",
        "width = 2\n",
        "name = \"saturnus\""
      ]
    },
    {
      "cell_type": "code",
      "execution_count": null,
      "metadata": {
        "id": "78Uce2D9bG6H"
      },
      "outputs": [],
      "source": [
        "def greeting(name):\n",
        "  return 'hello,' + name\n",
        "  "
      ]
    },
    {
      "cell_type": "code",
      "execution_count": null,
      "metadata": {
        "colab": {
          "base_uri": "https://localhost:8080/"
        },
        "id": "C555Y7N1cWDq",
        "outputId": "6409995d-724c-46f0-832c-7049d85be3a4"
      },
      "outputs": [
        {
          "name": "stdout",
          "output_type": "stream",
          "text": [
            "hello,bangkit\n"
          ]
        }
      ],
      "source": [
        "print(greeting('bangkit'))"
      ]
    },
    {
      "cell_type": "code",
      "execution_count": null,
      "metadata": {
        "colab": {
          "base_uri": "https://localhost:8080/"
        },
        "id": "vv6iXKYSctx8",
        "outputId": "c053ac3a-d2d6-4bb2-f7ed-c5f6f842b7d5"
      },
      "outputs": [
        {
          "data": {
            "text/plain": [
              "40.0"
            ]
          },
          "execution_count": 11,
          "metadata": {},
          "output_type": "execute_result"
        }
      ],
      "source": [
        "a = 10\n",
        "b = 30.0\n",
        "a + b"
      ]
    },
    {
      "cell_type": "code",
      "execution_count": null,
      "metadata": {
        "colab": {
          "base_uri": "https://localhost:8080/"
        },
        "id": "VOPzVBhZc_o0",
        "outputId": "d09294ac-dac9-45d5-ed20-f1fd5802b5b5"
      },
      "outputs": [
        {
          "name": "stdout",
          "output_type": "stream",
          "text": [
            "True\n"
          ]
        }
      ],
      "source": [
        "print(1 < 10 )"
      ]
    },
    {
      "cell_type": "code",
      "execution_count": null,
      "metadata": {
        "colab": {
          "base_uri": "https://localhost:8080/"
        },
        "id": "4aE4Sf1ddLBf",
        "outputId": "54f7306d-0848-4fab-8a01-6f7dbe6ba78b"
      },
      "outputs": [
        {
          "name": "stdout",
          "output_type": "stream",
          "text": [
            "True\n"
          ]
        }
      ],
      "source": [
        "print (1 != \"1\")"
      ]
    },
    {
      "cell_type": "code",
      "execution_count": null,
      "metadata": {
        "colab": {
          "base_uri": "https://localhost:8080/"
        },
        "id": "CWHdbKcadUP6",
        "outputId": "9380ded5-93cf-4346-fe5f-40e8f2d99d43"
      },
      "outputs": [
        {
          "name": "stdout",
          "output_type": "stream",
          "text": [
            "False\n"
          ]
        }
      ],
      "source": [
        "print (\"Linux\" == \"Windows\")"
      ]
    },
    {
      "cell_type": "code",
      "execution_count": null,
      "metadata": {
        "id": "k7JAVi0sdrJ5"
      },
      "outputs": [],
      "source": [
        "\n",
        "def check(number):\n",
        "  if number > 0:\n",
        "    return \"Positive\"\n",
        "  elif number == 0:\n",
        "    return \"Zero\"\n",
        "  else:\n",
        "    return \"negative\"\n"
      ]
    },
    {
      "cell_type": "code",
      "execution_count": null,
      "metadata": {
        "colab": {
          "base_uri": "https://localhost:8080/"
        },
        "id": "84n6gc3wfW_h",
        "outputId": "8156b845-746c-4a99-e125-3e58efe35989"
      },
      "outputs": [
        {
          "name": "stdout",
          "output_type": "stream",
          "text": [
            "positive x=7\n",
            "positive x=6\n",
            "positive x=5\n",
            "positive x=4\n",
            "positive x=3\n",
            "positive x=2\n",
            "positive x=1\n",
            "now x=0\n"
          ]
        }
      ],
      "source": [
        "x = 7\n",
        "\n",
        "while x > 0:\n",
        "  print(\"positive x=\" + str(x))\n",
        "  x = x - 1\n",
        "\n",
        "print(\"now x=\" + str(x))"
      ]
    },
    {
      "cell_type": "code",
      "execution_count": null,
      "metadata": {
        "colab": {
          "base_uri": "https://localhost:8080/"
        },
        "id": "3t38ys-UgVEZ",
        "outputId": "7edd8890-f25e-4af8-f728-3db98f9ef4a9"
      },
      "outputs": [
        {
          "name": "stdout",
          "output_type": "stream",
          "text": [
            "x=0\n",
            "x=1\n",
            "x=2\n"
          ]
        }
      ],
      "source": [
        "for x in range (3):\n",
        "  print(\"x=\" + str(x))"
      ]
    },
    {
      "cell_type": "code",
      "execution_count": null,
      "metadata": {
        "id": "hZn9LPjFggly"
      },
      "outputs": [],
      "source": []
    },
    {
      "cell_type": "code",
      "execution_count": null,
      "metadata": {
        "colab": {
          "base_uri": "https://localhost:8080/"
        },
        "id": "OJ6tya4SglyB",
        "outputId": "5247425a-2b6e-475c-c029-e271f86914b3"
      },
      "outputs": [
        {
          "name": "stdout",
          "output_type": "stream",
          "text": [
            "x=0\n",
            "x=1\n"
          ]
        }
      ],
      "source": [
        "for x in range (3):\n",
        "  print(\"x=\" + str(x))\n",
        "  if x == 1:\n",
        "    break"
      ]
    },
    {
      "cell_type": "code",
      "execution_count": null,
      "metadata": {
        "colab": {
          "base_uri": "https://localhost:8080/"
        },
        "id": "6LpSxvG9g6gG",
        "outputId": "9672c761-3fc0-4728-ce8c-407eee1be8c3"
      },
      "outputs": [
        {
          "name": "stdout",
          "output_type": "stream",
          "text": [
            "3\n",
            "1\n"
          ]
        }
      ],
      "source": [
        "for x in range(3,0,-1):\n",
        "  if x % 2 == 0:\n",
        "    continue\n",
        "  print(x)\n"
      ]
    },
    {
      "cell_type": "code",
      "execution_count": null,
      "metadata": {
        "id": "oee2smG2hQAE"
      },
      "outputs": [],
      "source": [
        "length = 10\n",
        "width = 2\n",
        "area = length * width"
      ]
    },
    {
      "cell_type": "code",
      "execution_count": null,
      "metadata": {
        "id": "ju8sE1lfhd2q"
      },
      "outputs": [],
      "source": [
        "x = 10\n",
        "y = 2\n",
        "a = x*y"
      ]
    },
    {
      "cell_type": "code",
      "execution_count": null,
      "metadata": {
        "colab": {
          "base_uri": "https://localhost:8080/"
        },
        "id": "v1E1gXSfhjcf",
        "outputId": "9afa0077-d030-4130-face-75b37a9936b3"
      },
      "outputs": [
        {
          "name": "stdout",
          "output_type": "stream",
          "text": [
            "ml\n"
          ]
        }
      ],
      "source": [
        "paths = ['ml', 'cloud']\n",
        "\n",
        "print(paths[0])"
      ]
    },
    {
      "cell_type": "code",
      "execution_count": null,
      "metadata": {
        "id": "pmEEQLaMh5JC"
      },
      "outputs": [],
      "source": [
        "paths = ['ml', 'cloud']\n",
        "\n",
        "paths.append('android')"
      ]
    },
    {
      "cell_type": "code",
      "execution_count": null,
      "metadata": {
        "id": "1MjX7-waiGjJ"
      },
      "outputs": [],
      "source": [
        "paths = ['ml', 'cloud']\n",
        "\n",
        "paths.remove('cloud')"
      ]
    },
    {
      "cell_type": "code",
      "execution_count": null,
      "metadata": {
        "id": "PAkEltSnimSl"
      },
      "outputs": [],
      "source": [
        "paths = ['ml', 'cloud']\n",
        "\n",
        "paths.insert(1, 'mobile')"
      ]
    },
    {
      "cell_type": "code",
      "execution_count": null,
      "metadata": {
        "colab": {
          "base_uri": "https://localhost:8080/",
          "height": 35
        },
        "id": "UREhVLhDiv_p",
        "outputId": "aa8752a7-2d62-4c81-eab8-5dd5747e0de3"
      },
      "outputs": [
        {
          "data": {
            "application/vnd.google.colaboratory.intrinsic+json": {
              "type": "string"
            },
            "text/plain": [
              "'android'"
            ]
          },
          "execution_count": 37,
          "metadata": {},
          "output_type": "execute_result"
        }
      ],
      "source": [
        "paths = ['ml', 'cloud']\n",
        "\n",
        "paths.append('android')\n",
        "paths.remove('cloud')\n",
        "paths.insert(1, 'mobile')\n",
        "paths.pop(-1)"
      ]
    },
    {
      "cell_type": "code",
      "execution_count": 2,
      "metadata": {
        "colab": {
          "base_uri": "https://localhost:8080/"
        },
        "id": "r0y8U4QbjJQh",
        "outputId": "ad08c712-074b-4a4f-92ec-b9d2940abfc5"
      },
      "outputs": [
        {
          "output_type": "stream",
          "name": "stdout",
          "text": [
            "900\n"
          ]
        }
      ],
      "source": [
        "students = {\n",
        "    'ml' : 500,\n",
        "    'mobile' : 700,\n",
        "    'cloud' : 900\n",
        "}\n",
        "\n",
        "print(students['cloud'])\n"
      ]
    }
  ],
  "metadata": {
    "colab": {
      "provenance": []
    },
    "kernelspec": {
      "display_name": "Python 3",
      "name": "python3"
    },
    "language_info": {
      "name": "python"
    }
  },
  "nbformat": 4,
  "nbformat_minor": 0
}