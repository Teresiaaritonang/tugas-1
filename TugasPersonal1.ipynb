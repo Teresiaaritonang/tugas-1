{
  "nbformat": 4,
  "nbformat_minor": 0,
  "metadata": {
    "colab": {
      "provenance": []
    },
    "kernelspec": {
      "name": "python3",
      "display_name": "Python 3"
    },
    "language_info": {
      "name": "python"
    }
  },
  "cells": [
    {
      "cell_type": "code",
      "execution_count": 1,
      "metadata": {
        "id": "kxCGAyJKYKzB",
        "colab": {
          "base_uri": "https://localhost:8080/"
        },
        "outputId": "3b4ccd27-4827-4eb2-b59d-8c62d2396e64"
      },
      "outputs": [
        {
          "output_type": "stream",
          "name": "stdout",
          "text": [
            "hello, world!\n"
          ]
        }
      ],
      "source": [
        "print('hello, world!')"
      ]
    },
    {
      "cell_type": "code",
      "source": [
        "length = 10\n",
        "width = 2\n",
        "name = \"saturnus\""
      ],
      "metadata": {
        "id": "9I3z5sHpiAOY"
      },
      "execution_count": 2,
      "outputs": []
    },
    {
      "cell_type": "code",
      "source": [
        "def greeting (name):\n",
        "  return 'hello,' + name"
      ],
      "metadata": {
        "id": "04AidUXZiJ1b"
      },
      "execution_count": 3,
      "outputs": []
    },
    {
      "cell_type": "code",
      "source": [
        "print(greeting('tere'))"
      ],
      "metadata": {
        "colab": {
          "base_uri": "https://localhost:8080/"
        },
        "id": "bkCsO2StiZhQ",
        "outputId": "3d55e23d-4167-413b-95b9-a30444a292b3"
      },
      "execution_count": 5,
      "outputs": [
        {
          "output_type": "stream",
          "name": "stdout",
          "text": [
            "hello,tere\n"
          ]
        }
      ]
    },
    {
      "cell_type": "code",
      "source": [
        "a = 10\n",
        "b = 30.0\n",
        "a + b"
      ],
      "metadata": {
        "colab": {
          "base_uri": "https://localhost:8080/"
        },
        "id": "kp-7_eWyifeQ",
        "outputId": "e88c809e-1d62-4189-ed8c-990fba2718e2"
      },
      "execution_count": 6,
      "outputs": [
        {
          "output_type": "execute_result",
          "data": {
            "text/plain": [
              "40.0"
            ]
          },
          "metadata": {},
          "execution_count": 6
        }
      ]
    },
    {
      "cell_type": "code",
      "source": [
        "print(1<10)"
      ],
      "metadata": {
        "colab": {
          "base_uri": "https://localhost:8080/"
        },
        "id": "cBB6W7mUin-l",
        "outputId": "89daa804-7294-4b4e-e010-bd94eb927164"
      },
      "execution_count": 7,
      "outputs": [
        {
          "output_type": "stream",
          "name": "stdout",
          "text": [
            "True\n"
          ]
        }
      ]
    },
    {
      "cell_type": "code",
      "source": [
        "print(\"Linux\" == \"Windows\")"
      ],
      "metadata": {
        "colab": {
          "base_uri": "https://localhost:8080/"
        },
        "id": "m2fpIEsiivq9",
        "outputId": "509b744e-8532-4c74-ef2f-f6147026f61e"
      },
      "execution_count": 8,
      "outputs": [
        {
          "output_type": "stream",
          "name": "stdout",
          "text": [
            "False\n"
          ]
        }
      ]
    },
    {
      "cell_type": "code",
      "source": [
        "print(1 != \"1\")"
      ],
      "metadata": {
        "colab": {
          "base_uri": "https://localhost:8080/"
        },
        "id": "wxhu6Y3Qi0x-",
        "outputId": "e91ad96e-e3ee-412a-97cd-b6eb6c8e17cb"
      },
      "execution_count": 9,
      "outputs": [
        {
          "output_type": "stream",
          "name": "stdout",
          "text": [
            "True\n"
          ]
        }
      ]
    },
    {
      "cell_type": "code",
      "source": [
        "x = 7\n",
        "\n",
        "while x > 0:\n",
        "  print(\"positive x=\" + str(x))\n",
        "  x = x - 1\n",
        "\n",
        "print(\"now x=\" + str(x))"
      ],
      "metadata": {
        "colab": {
          "base_uri": "https://localhost:8080/"
        },
        "id": "NHovm8FYkSFW",
        "outputId": "0756aafb-8790-48f1-f4a9-e848f9a6b7cb"
      },
      "execution_count": 13,
      "outputs": [
        {
          "output_type": "stream",
          "name": "stdout",
          "text": [
            "positive x=7\n",
            "positive x=6\n",
            "positive x=5\n",
            "positive x=4\n",
            "positive x=3\n",
            "positive x=2\n",
            "positive x=1\n",
            "now x=0\n"
          ]
        }
      ]
    },
    {
      "cell_type": "code",
      "source": [
        "for x in range (3):\n",
        "  print(\"x=\" + str(x))"
      ],
      "metadata": {
        "colab": {
          "base_uri": "https://localhost:8080/"
        },
        "id": "IM6rib_MkwRI",
        "outputId": "23947f9b-2d7a-4aef-a505-4523a6a0a8d0"
      },
      "execution_count": 16,
      "outputs": [
        {
          "output_type": "stream",
          "name": "stdout",
          "text": [
            "x=0\n",
            "x=1\n",
            "x=2\n"
          ]
        }
      ]
    },
    {
      "cell_type": "code",
      "source": [
        "#break\n",
        "for x in range(3):\n",
        "  print('x=' + str(x))\n",
        "  if x == 1:\n",
        "    break"
      ],
      "metadata": {
        "colab": {
          "base_uri": "https://localhost:8080/"
        },
        "id": "U8gv7EXhlEGN",
        "outputId": "071530f2-3d07-4f98-c7f5-304a5d5ce802"
      },
      "execution_count": 17,
      "outputs": [
        {
          "output_type": "stream",
          "name": "stdout",
          "text": [
            "x=0\n",
            "x=1\n"
          ]
        }
      ]
    },
    {
      "cell_type": "code",
      "source": [
        "#continue\n",
        "for x in range(3, 0, -1):\n",
        "  if x % 2 == 0:\n",
        "    continue\n",
        "  print(x)"
      ],
      "metadata": {
        "colab": {
          "base_uri": "https://localhost:8080/"
        },
        "id": "70bBnkbIljRk",
        "outputId": "eb608822-fba7-4a9d-cb03-02a33b00cc6e"
      },
      "execution_count": 19,
      "outputs": [
        {
          "output_type": "stream",
          "name": "stdout",
          "text": [
            "3\n",
            "1\n"
          ]
        }
      ]
    },
    {
      "cell_type": "code",
      "source": [
        "length = 10\n",
        "width = 2\n",
        "area = length * width"
      ],
      "metadata": {
        "id": "0-Y-bWaol18A"
      },
      "execution_count": 20,
      "outputs": []
    },
    {
      "cell_type": "code",
      "source": [
        "x = 10\n",
        "y = 2\n",
        "a = x*y"
      ],
      "metadata": {
        "id": "eGrXVsF8mAvO"
      },
      "execution_count": 21,
      "outputs": []
    },
    {
      "cell_type": "code",
      "source": [
        "#Data Struktur List\n",
        "paths = ['ML', 'Cloud']\n",
        "\n",
        "print(paths[0])\n",
        "\n",
        "paths.append('Android')\n",
        "paths.remove('Cloud')\n",
        "paths.insert(1, 'Mobile')\n",
        "paths.pop(-1)"
      ],
      "metadata": {
        "colab": {
          "base_uri": "https://localhost:8080/",
          "height": 53
        },
        "id": "2dffsNQQmF8R",
        "outputId": "d7418f89-5f87-4e52-844f-e8adc4b9ac75"
      },
      "execution_count": 23,
      "outputs": [
        {
          "output_type": "stream",
          "name": "stdout",
          "text": [
            "ML\n"
          ]
        },
        {
          "output_type": "execute_result",
          "data": {
            "text/plain": [
              "'Android'"
            ],
            "application/vnd.google.colaboratory.intrinsic+json": {
              "type": "string"
            }
          },
          "metadata": {},
          "execution_count": 23
        }
      ]
    },
    {
      "cell_type": "code",
      "source": [
        "#Dictionary\n",
        "students = {\n",
        "    'ml': 500,\n",
        "    'mpbile' : 700,\n",
        "    'cloud' : 900\n",
        "}\n",
        "\n",
        "print(students['cloud'])\n",
        "\n",
        "students['ml'] = 1000"
      ],
      "metadata": {
        "colab": {
          "base_uri": "https://localhost:8080/"
        },
        "id": "cugcFPbimytH",
        "outputId": "698a4f7a-6d64-44ed-fdbb-07b3b152bb99"
      },
      "execution_count": 25,
      "outputs": [
        {
          "output_type": "stream",
          "name": "stdout",
          "text": [
            "900\n"
          ]
        }
      ]
    }
  ]
}